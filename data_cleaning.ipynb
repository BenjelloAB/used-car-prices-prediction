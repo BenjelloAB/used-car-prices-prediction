{
 "cells": [
  {
   "cell_type": "code",
   "execution_count": null,
   "metadata": {
    "id": "ey_QDA4RoSZY"
   },
   "outputs": [],
   "source": [
    "import pandas as pd"
   ]
  },
  {
   "cell_type": "code",
   "execution_count": null,
   "metadata": {
    "colab": {
     "base_uri": "https://localhost:8080/",
     "height": 499
    },
    "id": "4NGIazYGoUIi",
    "outputId": "cc11fb6d-af40-4a3d-be1c-d6788a19c3e9"
   },
   "outputs": [
    {
     "data": {
      "text/html": [
       "<div>\n",
       "<style scoped>\n",
       "    .dataframe tbody tr th:only-of-type {\n",
       "        vertical-align: middle;\n",
       "    }\n",
       "\n",
       "    .dataframe tbody tr th {\n",
       "        vertical-align: top;\n",
       "    }\n",
       "\n",
       "    .dataframe thead th {\n",
       "        text-align: right;\n",
       "    }\n",
       "</style>\n",
       "<table border=\"1\" class=\"dataframe\">\n",
       "  <thead>\n",
       "    <tr style=\"text-align: right;\">\n",
       "      <th></th>\n",
       "      <th>url</th>\n",
       "      <th>title</th>\n",
       "      <th>price</th>\n",
       "      <th>location</th>\n",
       "      <th>brand</th>\n",
       "      <th>year</th>\n",
       "      <th>transmission</th>\n",
       "      <th>fuel_type</th>\n",
       "      <th>kilometrage</th>\n",
       "      <th>brand.1</th>\n",
       "      <th>...</th>\n",
       "      <th>speed_limiter</th>\n",
       "      <th>alloy_wheels</th>\n",
       "      <th>esp</th>\n",
       "      <th>air_conditioning</th>\n",
       "      <th>cd/mp3/bluetooth</th>\n",
       "      <th>sieges_cuir</th>\n",
       "      <th>ordinateur_de_bord</th>\n",
       "      <th>sunroof</th>\n",
       "      <th>cruise_control</th>\n",
       "      <th>door_number</th>\n",
       "    </tr>\n",
       "  </thead>\n",
       "  <tbody>\n",
       "    <tr>\n",
       "      <th>0</th>\n",
       "      <td>https://www.avito.ma/fr/abdelmoumen/voitures_d...</td>\n",
       "      <td>vente voiture electrique pour loisir</td>\n",
       "      <td>80 000 DH</td>\n",
       "      <td>Abdelmoumen, Casablanca</td>\n",
       "      <td>Lada</td>\n",
       "      <td>2014</td>\n",
       "      <td>Automatique</td>\n",
       "      <td>Electrique</td>\n",
       "      <td>15 000 - 19 999</td>\n",
       "      <td>Lada</td>\n",
       "      <td>...</td>\n",
       "      <td>False</td>\n",
       "      <td>False</td>\n",
       "      <td>False</td>\n",
       "      <td>False</td>\n",
       "      <td>False</td>\n",
       "      <td>False</td>\n",
       "      <td>False</td>\n",
       "      <td>False</td>\n",
       "      <td>False</td>\n",
       "      <td>NaN</td>\n",
       "    </tr>\n",
       "    <tr>\n",
       "      <th>1</th>\n",
       "      <td>https://www.avito.ma/fr/al_maghrib_al_arabi/vo...</td>\n",
       "      <td>Rover 75 essence manuelle a kenitra</td>\n",
       "      <td>46 000 DH</td>\n",
       "      <td>Al Maghrib Al Arabi, Kenitra</td>\n",
       "      <td>Rover</td>\n",
       "      <td>2000</td>\n",
       "      <td>Manuelle</td>\n",
       "      <td>Essence</td>\n",
       "      <td>250 000 - 299 999</td>\n",
       "      <td>Rover</td>\n",
       "      <td>...</td>\n",
       "      <td>False</td>\n",
       "      <td>False</td>\n",
       "      <td>False</td>\n",
       "      <td>False</td>\n",
       "      <td>False</td>\n",
       "      <td>False</td>\n",
       "      <td>False</td>\n",
       "      <td>False</td>\n",
       "      <td>False</td>\n",
       "      <td>5.0</td>\n",
       "    </tr>\n",
       "    <tr>\n",
       "      <th>2</th>\n",
       "      <td>https://www.avito.ma/fr/autre_secteur/voitures...</td>\n",
       "      <td>Rover 400 essence</td>\n",
       "      <td>27 000 DH</td>\n",
       "      <td>Autre secteur, Rabat</td>\n",
       "      <td>Rover</td>\n",
       "      <td>2000</td>\n",
       "      <td>Manuelle</td>\n",
       "      <td>Essence</td>\n",
       "      <td>0 - 4 999</td>\n",
       "      <td>Rover</td>\n",
       "      <td>...</td>\n",
       "      <td>False</td>\n",
       "      <td>False</td>\n",
       "      <td>False</td>\n",
       "      <td>False</td>\n",
       "      <td>False</td>\n",
       "      <td>False</td>\n",
       "      <td>False</td>\n",
       "      <td>False</td>\n",
       "      <td>False</td>\n",
       "      <td>5.0</td>\n",
       "    </tr>\n",
       "    <tr>\n",
       "      <th>3</th>\n",
       "      <td>https://www.avito.ma/fr/agdal/voitures_d'occas...</td>\n",
       "      <td>Rover 75 Essence Manuelle 2000 à Fes</td>\n",
       "      <td>50 000 DH</td>\n",
       "      <td>Agdal, Fes</td>\n",
       "      <td>Rover</td>\n",
       "      <td>2000</td>\n",
       "      <td>Manuelle</td>\n",
       "      <td>Essence</td>\n",
       "      <td>190 000 - 199 999</td>\n",
       "      <td>Rover</td>\n",
       "      <td>...</td>\n",
       "      <td>False</td>\n",
       "      <td>False</td>\n",
       "      <td>False</td>\n",
       "      <td>False</td>\n",
       "      <td>False</td>\n",
       "      <td>False</td>\n",
       "      <td>False</td>\n",
       "      <td>False</td>\n",
       "      <td>False</td>\n",
       "      <td>5.0</td>\n",
       "    </tr>\n",
       "    <tr>\n",
       "      <th>4</th>\n",
       "      <td>https://www.avito.ma/fr/khouribga/voitures_d'o...</td>\n",
       "      <td>Rover 75d</td>\n",
       "      <td>57 000 DH</td>\n",
       "      <td>Toute la ville, Khouribga</td>\n",
       "      <td>Rover</td>\n",
       "      <td>2001</td>\n",
       "      <td>Manuelle</td>\n",
       "      <td>Diesel</td>\n",
       "      <td>200 000 - 249 999</td>\n",
       "      <td>Rover</td>\n",
       "      <td>...</td>\n",
       "      <td>False</td>\n",
       "      <td>False</td>\n",
       "      <td>False</td>\n",
       "      <td>False</td>\n",
       "      <td>False</td>\n",
       "      <td>False</td>\n",
       "      <td>False</td>\n",
       "      <td>False</td>\n",
       "      <td>False</td>\n",
       "      <td>5.0</td>\n",
       "    </tr>\n",
       "  </tbody>\n",
       "</table>\n",
       "<p>5 rows × 32 columns</p>\n",
       "</div>"
      ],
      "text/plain": [
       "                                                 url  \\\n",
       "0  https://www.avito.ma/fr/abdelmoumen/voitures_d...   \n",
       "1  https://www.avito.ma/fr/al_maghrib_al_arabi/vo...   \n",
       "2  https://www.avito.ma/fr/autre_secteur/voitures...   \n",
       "3  https://www.avito.ma/fr/agdal/voitures_d'occas...   \n",
       "4  https://www.avito.ma/fr/khouribga/voitures_d'o...   \n",
       "\n",
       "                                  title      price  \\\n",
       "0  vente voiture electrique pour loisir  80 000 DH   \n",
       "1   Rover 75 essence manuelle a kenitra  46 000 DH   \n",
       "2                     Rover 400 essence  27 000 DH   \n",
       "3  Rover 75 Essence Manuelle 2000 à Fes  50 000 DH   \n",
       "4                             Rover 75d  57 000 DH   \n",
       "\n",
       "                       location  brand  year transmission   fuel_type  \\\n",
       "0       Abdelmoumen, Casablanca   Lada  2014  Automatique  Electrique   \n",
       "1  Al Maghrib Al Arabi, Kenitra  Rover  2000     Manuelle     Essence   \n",
       "2          Autre secteur, Rabat  Rover  2000     Manuelle     Essence   \n",
       "3                    Agdal, Fes  Rover  2000     Manuelle     Essence   \n",
       "4     Toute la ville, Khouribga  Rover  2001     Manuelle      Diesel   \n",
       "\n",
       "         kilometrage brand.1  ... speed_limiter alloy_wheels    esp  \\\n",
       "0    15 000 - 19 999    Lada  ...         False        False  False   \n",
       "1  250 000 - 299 999   Rover  ...         False        False  False   \n",
       "2          0 - 4 999   Rover  ...         False        False  False   \n",
       "3  190 000 - 199 999   Rover  ...         False        False  False   \n",
       "4  200 000 - 249 999   Rover  ...         False        False  False   \n",
       "\n",
       "  air_conditioning cd/mp3/bluetooth  sieges_cuir  ordinateur_de_bord  sunroof  \\\n",
       "0            False            False        False               False    False   \n",
       "1            False            False        False               False    False   \n",
       "2            False            False        False               False    False   \n",
       "3            False            False        False               False    False   \n",
       "4            False            False        False               False    False   \n",
       "\n",
       "   cruise_control  door_number  \n",
       "0           False          NaN  \n",
       "1           False          5.0  \n",
       "2           False          5.0  \n",
       "3           False          5.0  \n",
       "4           False          5.0  \n",
       "\n",
       "[5 rows x 32 columns]"
      ]
     },
     "execution_count": 3,
     "metadata": {},
     "output_type": "execute_result"
    }
   ],
   "source": [
    "data = pd.read_csv(r'C:\\Users\\pc\\Desktop\\school_deep_notes\\machine learning\\merged_output_cp.csv')\n",
    "data.head()\n"
   ]
  },
  {
   "cell_type": "code",
   "execution_count": null,
   "metadata": {
    "colab": {
     "base_uri": "https://localhost:8080/",
     "height": 458
    },
    "id": "I0Ze1V2NS8k0",
    "outputId": "519e7c9e-1361-41ce-b0b0-1d4a283b5a35"
   },
   "outputs": [
    {
     "data": {
      "text/plain": [
       "0              Casablanca\n",
       "1                 Kenitra\n",
       "2                   Rabat\n",
       "3                     Fes\n",
       "4               Khouribga\n",
       "               ...       \n",
       "22634                Sale\n",
       "22635              Agadir\n",
       "22636              Agadir\n",
       "22637           Ben Ahmed\n",
       "22638    Sidi Bou Othmane\n",
       "Name: city, Length: 22639, dtype: object"
      ]
     },
     "execution_count": 4,
     "metadata": {},
     "output_type": "execute_result"
    }
   ],
   "source": [
    "data['city'] = data['location'].str.split(',').str[-1].str.strip()\n",
    "data['city']"
   ]
  },
  {
   "cell_type": "code",
   "execution_count": null,
   "metadata": {
    "colab": {
     "base_uri": "https://localhost:8080/",
     "height": 458
    },
    "id": "rx5d05WDY-Jq",
    "outputId": "e9bd5765-5557-49a1-b33a-b5678da72c53"
   },
   "outputs": [
    {
     "data": {
      "text/plain": [
       "0         80000.0\n",
       "1         46000.0\n",
       "2         27000.0\n",
       "3         50000.0\n",
       "4         57000.0\n",
       "           ...   \n",
       "22634    210000.0\n",
       "22635     95000.0\n",
       "22636    150000.0\n",
       "22637    110000.0\n",
       "22638    180000.0\n",
       "Name: price_num, Length: 22639, dtype: float64"
      ]
     },
     "execution_count": 11,
     "metadata": {},
     "output_type": "execute_result"
    }
   ],
   "source": [
    "data['price_num'] = data['price'].str.replace('DH', '').str.replace(' ', '').astype(float)\n",
    "data['price_num']"
   ]
  },
  {
   "cell_type": "code",
   "execution_count": null,
   "metadata": {
    "colab": {
     "base_uri": "https://localhost:8080/"
    },
    "id": "a_HZ1RZaZNea",
    "outputId": "009e402b-eb9a-462d-aed1-96cce2827b03"
   },
   "outputs": [
    {
     "name": "stdout",
     "output_type": "stream",
     "text": [
      "        brand       model\n",
      "0        Lada        2107\n",
      "1       Rover          75\n",
      "2       Rover   Serie 400\n",
      "5       Rover   Serie 600\n",
      "7       Rover  Streetwise\n",
      "...       ...         ...\n",
      "22238  Nissan       Rogue\n",
      "22511  Nissan    Kubistar\n",
      "22530  Nissan       Urvan\n",
      "22537  Nissan         280\n",
      "22559  Nissan     Vanette\n",
      "\n",
      "[646 rows x 2 columns]\n"
     ]
    }
   ],
   "source": [
    "brand_model_paris = data[['brand', 'model']].drop_duplicates()\n",
    "print(brand_model_paris)"
   ]
  },
  {
   "cell_type": "code",
   "execution_count": null,
   "metadata": {
    "colab": {
     "base_uri": "https://localhost:8080/"
    },
    "id": "Q278EOS6t0lO",
    "outputId": "c53356b2-85cd-4f1f-ec23-da571026cab2"
   },
   "outputs": [
    {
     "name": "stdout",
     "output_type": "stream",
     "text": [
      "                                                     url  \\\n",
      "252    https://www.avito.ma/fr/autre_secteur/voitures...   \n",
      "830    https://www.avito.ma/fr/route_de_casablanca/vo...   \n",
      "1700   https://www.avito.ma/fr/route_de_sefrou/voitur...   \n",
      "3138   https://www.avito.ma/fr/anfa/voitures_d'occasi...   \n",
      "3386   https://www.avito.ma/fr/ain_sebaa/voitures_d'o...   \n",
      "4798   https://www.avito.ma/fr/al_maghrib_al_arabi/vo...   \n",
      "9954   https://www.avito.ma/fr/ahlane/voitures_d'occa...   \n",
      "13124  https://www.avito.ma/fr/autre_secteur/voitures...   \n",
      "13605  https://www.avito.ma/fr/autre_secteur/voitures...   \n",
      "13877  https://www.avito.ma/fr/anfa/voitures_d'occasi...   \n",
      "14817  https://www.avito.ma/fr/massira_2/voitures_d'o...   \n",
      "15188  https://www.avito.ma/fr/gueliz/voitures_d'occa...   \n",
      "16121  https://www.avito.ma/fr/autre_secteur/voitures...   \n",
      "16273  https://www.avito.ma/fr/wilaya/voitures_d'occa...   \n",
      "16292  https://www.avito.ma/fr/californie/voitures_d'...   \n",
      "16529  https://www.avito.ma/fr/almaz/voitures_d'occas...   \n",
      "\n",
      "                                                   title       price  \\\n",
      "252                               KIFAL - HYUNDAI Tucson  279 000 DH   \n",
      "830    Hyundai Bayon Essence Automatique 2023 à Marra...  215 000 DH   \n",
      "1700             Dacia Dokker Diesel Manuelle 2021 à Fes  127 000 DH   \n",
      "3138                   Peugeot 208 Essence 2022 Manuelle  108 000 DH   \n",
      "3386     Peugeot 2008 Diesel Automatique modele fin 2020  229 000 DH   \n",
      "4798                               Mercedes Classe A200d  250 000 DH   \n",
      "9954                                       Toyota Corola   48 000 DH   \n",
      "13124                            KIFAL - PORSCHE Cayenne  310 000 DH   \n",
      "13605             Jeep Grand Cherokee Overland Diesel WW  168 000 DH   \n",
      "13877             Jeep Renegade Hybride Automatique 2024  235 000 DH   \n",
      "14817   Skoda Kodiaq Diesel Automatique 2018 à Marrakech  238 000 DH   \n",
      "15188                                         Ford C Max   97 000 DH   \n",
      "16121                                KIFAL - BMW SeRIE 1  305 000 DH   \n",
      "16273           BMW X1 Diesel Automatique 2014 à Tetouan  153 000 DH   \n",
      "16292  BMW X5 Automatique Diesel 2017 pack M à Casabl...  280 000 DH   \n",
      "16529                                             bmw x5  760 000 DH   \n",
      "\n",
      "                            location          brand  year transmission  \\\n",
      "252     Autre secteur, الدار البيضاء        Hyundai  2021  Automatique   \n",
      "830       Route de Casablanca, مراكش        Hyundai  2023  Automatique   \n",
      "1700            Route de Sefrou, فاس          Dacia  2021     Manuelle   \n",
      "3138             Anfa, الدار البيضاء        Peugeot  2022     Manuelle   \n",
      "3386        Ain Sebaa, الدار البيضاء        Peugeot  2020  Automatique   \n",
      "4798   Al Maghrib Al Arabi, القنيطرة  Mercedes-Benz  2016  Automatique   \n",
      "9954                    Ahlane, طنجة         Toyota  2002     Manuelle   \n",
      "13124   Autre secteur, الدار البيضاء        Porsche  2013  Automatique   \n",
      "13605   Autre secteur, الدار البيضاء           Jeep  2015  Automatique   \n",
      "13877            Anfa, الدار البيضاء           Jeep  2024  Automatique   \n",
      "14817               Massira 2, مراكش          Skoda  2018  Automatique   \n",
      "15188                  Gueliz, مراكش           Ford  2016     Manuelle   \n",
      "16121   Autre secteur, الدار البيضاء            BMW  2024  Automatique   \n",
      "16273                  Wilaya, تطوان            BMW  2014  Automatique   \n",
      "16292      Californie, الدار البيضاء            BMW  2017  Automatique   \n",
      "16529           Almaz, الدار البيضاء            BMW  2022  Automatique   \n",
      "\n",
      "      fuel_type        kilometrage        brand.1  ... alloy_wheels    esp  \\\n",
      "252      Diesel    35 000 - 39 999        Hyundai  ...        False  False   \n",
      "830     Essence    10 000 - 14 999        Hyundai  ...        False  False   \n",
      "1700     Diesel  170 000 - 179 999          Dacia  ...        False  False   \n",
      "3138    Essence    40 000 - 44 999        Peugeot  ...        False   True   \n",
      "3386     Diesel    80 000 - 84 999        Peugeot  ...         True   True   \n",
      "4798     Diesel  140 000 - 149 999  Mercedes-Benz  ...        False  False   \n",
      "9954     Diesel  200 000 - 249 999         Toyota  ...        False  False   \n",
      "13124    Diesel    75 000 - 79 999        Porsche  ...        False  False   \n",
      "13605    Diesel  110 000 - 119 999           Jeep  ...         True   True   \n",
      "13877   Hybride    10 000 - 14 999           Jeep  ...        False  False   \n",
      "14817    Diesel    90 000 - 94 999          Skoda  ...        False  False   \n",
      "15188   Essence    70 000 - 74 999           Ford  ...        False  False   \n",
      "16121    Diesel    20 000 - 24 999            BMW  ...        False  False   \n",
      "16273    Diesel  200 000 - 249 999            BMW  ...        False  False   \n",
      "16292    Diesel  180 000 - 189 999            BMW  ...         True   True   \n",
      "16529   Hybride    45 000 - 49 999            BMW  ...        False  False   \n",
      "\n",
      "      air_conditioning cd/mp3/bluetooth sieges_cuir  ordinateur_de_bord  \\\n",
      "252              False            False       False               False   \n",
      "830              False            False       False               False   \n",
      "1700             False            False       False               False   \n",
      "3138              True             True       False                True   \n",
      "3386              True             True        True                True   \n",
      "4798             False            False       False               False   \n",
      "9954             False            False       False               False   \n",
      "13124            False            False       False               False   \n",
      "13605             True             True        True                True   \n",
      "13877            False            False       False               False   \n",
      "14817            False            False       False               False   \n",
      "15188            False            False       False               False   \n",
      "16121            False            False       False               False   \n",
      "16273            False            False       False               False   \n",
      "16292             True             True        True                True   \n",
      "16529            False            False       False               False   \n",
      "\n",
      "       sunroof  cruise_control  door_number           city  \n",
      "252      False           False          NaN  الدار البيضاء  \n",
      "830      False           False          5.0          مراكش  \n",
      "1700     False           False          5.0            فاس  \n",
      "3138     False            True          5.0  الدار البيضاء  \n",
      "3386     False           False          5.0  الدار البيضاء  \n",
      "4798     False           False          3.0       القنيطرة  \n",
      "9954     False           False          5.0           طنجة  \n",
      "13124    False           False          NaN  الدار البيضاء  \n",
      "13605     True            True          5.0  الدار البيضاء  \n",
      "13877    False           False          5.0  الدار البيضاء  \n",
      "14817    False           False          5.0          مراكش  \n",
      "15188    False           False          5.0          مراكش  \n",
      "16121    False           False          NaN  الدار البيضاء  \n",
      "16273    False           False          5.0          تطوان  \n",
      "16292     True            True          5.0  الدار البيضاء  \n",
      "16529    False           False          5.0  الدار البيضاء  \n",
      "\n",
      "[16 rows x 33 columns]\n"
     ]
    }
   ],
   "source": [
    "import re\n",
    "\n",
    "# Function to check if text contains both Arabic and Latin characters\n",
    "def is_mixed_arabic_latin(text):\n",
    "    if isinstance(text, str):\n",
    "        # Regex for detecting both Arabic and Latin characters\n",
    "        return bool(re.search(r'[\\u0600-\\u06FF]', text) and re.search(r'[a-zA-Z]', text))\n",
    "    return False\n",
    "\n",
    "\n",
    "\n",
    "city_mapping = {\n",
    "    \"الدار البيضاء\": \"Casablanca\",\n",
    "    \"مراكش\": \"Marrakech\",\n",
    "    \"فاس\": \"Fes\",\n",
    "    \"القنيطرة\": \"Kenitra\",\n",
    "    \"طنجة\": \"Tangier\",\n",
    "    \"تطوان\": \"Tetouan\",\n",
    "}\n",
    "# # Map Arabic cities to Latin ones in the 'city' column\n",
    "# data['city_latin'] = data['city'].map(city_mapping)\n",
    "\n",
    "# # Fill NaN values in 'city_latin' with an appropriate placeholder (e.g., 'Unknown')\n",
    "# data['city_latin'].fillna('Unknown', inplace=True)\n",
    "\n",
    "\n",
    "# Apply to 'location' column\n",
    "mixed_arabic_latin_rows = data[data['location'].apply(is_mixed_arabic_latin)]\n",
    "\n",
    "\n",
    "\n",
    "print(mixed_arabic_latin_rows)"
   ]
  },
  {
   "cell_type": "code",
   "execution_count": null,
   "metadata": {
    "id": "zU8OTXUCwzmQ"
   },
   "outputs": [],
   "source": [
    "city_mapping = {\n",
    "    \"الدار البيضاء\": \"Casablanca\",\n",
    "    \"مراكش\": \"Marrakech\",\n",
    "    \"فاس\": \"Fes\",\n",
    "    \"القنيطرة\": \"Kenitra\",\n",
    "    \"طنجة\": \"Tangier\",\n",
    "    \"تطوان\": \"Tetouan\",\n",
    "}\n",
    "# Remplacer les noms de villes en arabe par leur équivalent en lettres latines\n",
    "# dans la colonne 'city'.\n",
    "# Si un nom de ville ne figure pas dans le dictionnaire 'city_mapping', il est conservé tel quel.\n",
    "\n",
    "# La méthode .get(x, x) permet de rechercher la valeur associée à la clé x dans le dictionnaire.\n",
    "# Si x n’est pas trouvé (c’est-à-dire que le nom de ville arabe n’est pas dans le dictionnaire),\n",
    "# alors la valeur par défaut (le deuxième x) est retournée.\n",
    "data['city'] = data['city'].apply(lambda x: city_mapping.get(x, x))\n"
   ]
  },
  {
   "cell_type": "code",
   "execution_count": null,
   "metadata": {
    "colab": {
     "base_uri": "https://localhost:8080/"
    },
    "id": "FqBnOd2Hww4x",
    "outputId": "f293f70c-4e95-459f-c7bb-a64a8763ec4b",
    "scrolled": true
   },
   "outputs": [
    {
     "name": "stdout",
     "output_type": "stream",
     "text": [
      "Empty DataFrame\n",
      "Columns: [url, title, price, location, brand, year, transmission, fuel_type, kilometrage, brand.1, model, origin, first_owner, fiscal_horsepower, condition, abs, airbags, electric_windows, remote_central_locking, parking_sensors, navigation_system/gps, rear_view_camera, speed_limiter, alloy_wheels, esp, air_conditioning, cd/mp3/bluetooth, sieges_cuir, ordinateur_de_bord, sunroof, cruise_control, door_number, city]\n",
      "Index: []\n",
      "\n",
      "[0 rows x 33 columns]\n"
     ]
    }
   ],
   "source": [
    "import re\n",
    "\n",
    "# Function to check if text contains both Arabic and Latin characters\n",
    "def is_mixed_arabic_latin(text):\n",
    "    if isinstance(text, str):\n",
    "        # Regex for detecting both Arabic and Latin characters\n",
    "        return bool(re.search(r'[\\u0600-\\u06FF]', text) and re.search(r'[a-zA-Z]', text))\n",
    "    return False\n",
    "\n",
    "# Apply to 'location' column\n",
    "mixed_arabic_latin_rows = data[data['city'].apply(is_mixed_arabic_latin)]\n",
    "\n",
    "\n",
    "\n",
    "print(mixed_arabic_latin_rows)"
   ]
  },
  {
   "cell_type": "code",
   "execution_count": null,
   "metadata": {
    "colab": {
     "base_uri": "https://localhost:8080/",
     "height": 492
    },
    "id": "huurOSkfjV72",
    "outputId": "76d31abd-95ff-4a7f-a918-89b5d1e19aa0"
   },
   "outputs": [
    {
     "data": {
      "text/plain": [
       "3061     NaN\n",
       "3439     NaN\n",
       "3521     NaN\n",
       "6175     NaN\n",
       "6398     NaN\n",
       "6775     NaN\n",
       "6922     NaN\n",
       "8318     NaN\n",
       "8775     NaN\n",
       "10617    NaN\n",
       "17741    NaN\n",
       "19780    NaN\n",
       "19890    NaN\n",
       "Name: city, dtype: object"
      ]
     },
     "execution_count": 9,
     "metadata": {},
     "output_type": "execute_result"
    }
   ],
   "source": [
    "data[data['city'].isnull()]['city']"
   ]
  },
  {
   "cell_type": "code",
   "execution_count": null,
   "metadata": {
    "colab": {
     "base_uri": "https://localhost:8080/"
    },
    "id": "Mfm-DaDDe9Of",
    "outputId": "fc9e6e17-013f-4030-cade-293dd60ebfb6"
   },
   "outputs": [
    {
     "name": "stdout",
     "output_type": "stream",
     "text": [
      "origin column unique values : \n",
      "['Importee neuve' 'WW au Maroc' nan 'Dedouanee' 'Pas encore dedouanee']\n",
      "first_owner column unique values :\n",
      "['Oui' 'Non' nan]\n",
      "condition column unique values :\n",
      "['Tres bon' 'Bon' 'Excellent' 'Neuf' 'Pour Pieces' 'Correct' nan\n",
      " 'Endommage']\n",
      "door number unique values \n",
      "[nan  5.  3.]\n",
      "fiscal horsepower unique values :\n",
      "['4 CV' '10 CV' '9 CV' '14 CV' '8 CV' '7 CV' '24 CV' '12 CV' '11 CV'\n",
      " '6 CV' '5 CV' '22 CV' '13 CV' '16 CV' '20 CV' 'Plus de 41 CV' '30 CV' nan\n",
      " '21 CV' '17 CV' '19 CV' '15 CV' '23 CV' '25 CV' '37 CV' '36 CV' '38 CV'\n",
      " '31 CV' '27 CV' '18 CV' '26 CV' '32 CV' '28 CV' '39 CV' '41 CV' '33 CV'\n",
      " '34 CV' '29 CV' '40 CV' '35 CV']\n",
      "transmission unique values\n",
      "['Automatique' 'Manuelle' nan]\n",
      "brand unique values :\n",
      "['Lada' 'Rover' 'Hyundai' 'Chery' 'Mazda' 'Dacia' 'Jaguar' 'Peugeot'\n",
      " 'Opel' 'Mercedes-Benz' 'Renault' 'Volkswagen' 'Kia' 'Seat' 'Toyota'\n",
      " 'Ssangyong' 'Citroen' 'Alfa Romeo' 'Mitsubishi' 'Porsche' 'DFSK' 'Jeep'\n",
      " 'Skoda' 'Ford' 'BMW' 'Geely' 'Daewoo' 'Fiat' 'Honda' 'Volvo' 'Suzuki'\n",
      " 'Chevrolet' 'Cadillac' 'Audi' 'Nissan']\n",
      "models unique values:\n",
      "kilometrage unique values :\n",
      "['15 000 - 19 999' '250 000 - 299 999' '0 - 4 999' '190 000 - 199 999'\n",
      " '200 000 - 249 999' '45 000 - 49 999' '5 000 - 9 999' '160 000 - 169 999'\n",
      " '40 000 - 44 999' '120 000 - 129 999' '110 000 - 119 999'\n",
      " '30 000 - 34 999' '450 000 - 499 999' '130 000 - 139 999'\n",
      " '10 000 - 14 999' '65 000 - 69 999' '170 000 - 179 999'\n",
      " '350 000 - 399 999' '150 000 - 159 999' '25 000 - 29 999'\n",
      " '300 000 - 349 999' '20 000 - 24 999' '80 000 - 84 999' '75 000 - 79 999'\n",
      " '180 000 - 189 999' '85 000 - 89 999' '55 000 - 59 999' '60 000 - 64 999'\n",
      " '140 000 - 149 999' '100 000 - 109 999' '70 000 - 74 999'\n",
      " '90 000 - 94 999' '35 000 - 39 999' '95 000 - 99 999' '50 000 - 54 999'\n",
      " '400 000 - 449 999' 'Plus de 500 000' nan]\n",
      "year unique values\n",
      "['2014' '2000' '2001' '1998' '1994' '2020' '2018' '2007' '2013' '2012'\n",
      " '1999' '1997' '2006' '1996' '2008' '2023' '2022' '2016' '2021' '2017'\n",
      " '2015' '2019' '2011' '2010' '2005' '2009' '2024' '2025' '2004' '2003'\n",
      " '2002' '1993' '1995' '1987' '1986' '1989' '1991' '1988' '1992' '1990'\n",
      " '1985' '1980 ou plus ancien' '1983' '1984' nan '1982' '1981']\n",
      "city unique values \n",
      "['Casablanca' 'Kenitra' 'Rabat' 'Fes' 'Khouribga' 'Laayoune' 'Agadir'\n",
      " 'Tanger' 'Mohammedia' 'Settat' 'Marrakech' 'Sale' 'Meknes' 'Taza'\n",
      " 'El Jadida' 'Taroudant' 'Tetouan' 'Ifrane' 'Temara' 'Oujda' 'Khenifra'\n",
      " 'Safi' 'Ben Guerir' 'Berrechid' 'Ain Taoujdate' 'Essaouira' 'Dar Bouazza'\n",
      " 'Nador' 'Bouskoura' 'Guelmim' 'Tata' 'Larache' 'Khemisset' 'Inzegan'\n",
      " 'Tifelt' 'Sidi Slimane' 'Beni Mellal' 'Berkane' 'Errachidia'\n",
      " 'Souk El Arbaa' 'Souk Sebt Ouled Nemma' 'Taourirt' 'Ouarzazate' 'Sefrou'\n",
      " 'Sidi Bennour' 'Dakhla' 'Errahma' 'Midelt' 'Benslimane' 'Tafraout'\n",
      " 'Deroua' 'Tan-Tan' 'El Kelaa des Sraghna' 'Bir Jdid' 'Mdiq' 'Skhirat'\n",
      " 'Nouaceur' 'Azrou' 'Azemmour' 'Sidi Yahya Zaer' 'Ouled Berhil'\n",
      " 'Ait Melloul' 'Missour' 'Had Soualem' 'Thar Es-Souk' 'Dcheïra El Jihadia'\n",
      " 'Ksar el-Kebir' 'Driouch' 'Afourar' 'Mehdia' 'Agadir Melloul' 'Marchouch'\n",
      " 'Sidi Kacem' 'Al Hoceima' 'Taounate' 'Tit Mellil' 'Chtouka' 'El Hajeb'\n",
      " 'Zagora' 'Bouznika' 'Sidi Rahal' 'Guercif' 'Ouazzane'\n",
      " 'Sidi Yahya El Gharb' 'Asilah' 'Mediouna' 'Moulay Bousselham'\n",
      " 'Youssoufia' 'Dar Gueddari' 'Ain Aouda' 'Ouled Teïma' 'Tahla' 'Mirleft'\n",
      " 'Chefchaouen' 'Tamensourt' 'Tiznit' 'Sidi Allal Tazi' 'Fnideq'\n",
      " 'Boufkrane' 'Boujdour' 'Biougra' 'Chichaoua' 'El Mansouria'\n",
      " 'Jorf El Melha' 'Fquih Ben Saleh' 'Tikiouine' 'Bab Taza' 'Martil'\n",
      " 'Chellalate' 'Touissit' 'Jorf' 'Sidi Lyamani' 'Ksar es-Seghir'\n",
      " 'Bouizakarne' 'Belfaa' 'Arfoud' 'Kasba Tadla' 'Mechra Bel Ksiri'\n",
      " 'Sidi Taibi' 'Sidi Hajjaj Oued Hassar' \"Mrir't\" 'Outat El Haj'\n",
      " 'Ain Cheggag' 'Tinghir' 'Bouarfa' nan 'Lakhssas' 'Tamesna' 'Tissa'\n",
      " 'Lahraouyine' 'Selouane' 'Ouislane' 'Akka' 'Sidi Allal El Bahraoui'\n",
      " 'Ain Harrouda' 'Meknassa Al Gharbia' 'Ait Ourir' 'El Ksiba' 'Ain Attig'\n",
      " 'Echemmaia' 'Azilal' 'Oulmes' 'Boukhalef' 'Boumia' 'Oualidia' 'Oued Zem'\n",
      " 'Meknassa Acharqia' 'Imzouren' 'Ben Ahmed' 'Zaïo' 'Saidia' 'Guigou'\n",
      " 'Dcheira' 'Karia Ba Mohamed' 'Zemamra' 'Agafay' 'Abaynou' 'Er-Rich'\n",
      " 'Tamaris' 'Imintanoute' \"Kalaat M'gouna\" 'Oued Laou' 'Lqliaa' 'Al Aaroui'\n",
      " 'Ahfir' 'Laattaouia' 'Goulmima' \"Oulad M'rah\" 'Imouzzer-Kendar'\n",
      " 'Taghazout' 'Bejaad' 'Zaouïat Cheikh' 'Bousselham' \"N'khila\" 'Sidi Bibi'\n",
      " 'Es-Semara' 'Aquouass Briech' 'Sebt Gzoula' 'Dar Ould Zidouh'\n",
      " 'Khemisset Chaouia' 'Gzenaya Al Janoubia' 'Oulad Abbou' 'Rommani' 'Massa'\n",
      " 'Aguelmous' 'Jemaa Shaim' 'Er-Rissani' 'Tarfaya' 'Merzouga' 'Tangier'\n",
      " 'Beni Malek' 'Sidi Bou Othmane' 'Agdz' 'Temsamane' 'Ain Sbit' 'El Gara'\n",
      " 'Tahannaout' 'Zemrane' 'Ouad Eddahab' 'Talsint' 'Tinejdad'\n",
      " 'Moulay Driss Zerhoun' 'Abadou' 'Rissani' 'Ain Tizgha' 'Dar Bel Amri'\n",
      " 'Sidi Slimane Echcharraa' 'Skhour Rhamna' 'Had Kourt'\n",
      " 'Zaouiat Sidi Kacem' 'Sidi Ifni' 'Aït Iaaza' 'Ourika'\n",
      " 'Laäyoune Ain Tizgha' 'Taznakht' 'Drargua' 'Mechouar Fes Jdid' 'Guisser'\n",
      " 'Al Haouz' 'Arbaoua' 'Demnate' 'Alnif' 'Tnine Aglou' 'Oulad Al Toualaa'\n",
      " 'Sidi Bettache' 'Aarab Sebbah Ziz' 'Ras Ijerri' 'Taliouine' 'Ghafsai'\n",
      " 'Ribat el Kheir' 'Bni Tadjite' 'Mers El Kheir' 'Sabaa Aiyoun' 'Naima'\n",
      " 'Boulmane' 'Hrara' 'Sidi Hajjaj' 'Ait Amira' \"Cap de l'eau\" 'Zeghanghane'\n",
      " 'Foum El Oued' 'Sidi Bouknadel' 'Houara Oulad Raho' 'Boulemane'\n",
      " 'Imi Ouaddar' 'Moulay Abdallah' 'Ait Ishaq' 'Sidi Abed']\n"
     ]
    }
   ],
   "source": [
    "print(\"origin column unique values : \")\n",
    "print(data['origin'].unique())\n",
    "\n",
    "print(\"first_owner column unique values :\")\n",
    "print(data['first_owner'].unique())\n",
    "\n",
    "print(\"condition column unique values :\")\n",
    "print(data['condition'].unique())\n",
    "\n",
    "print(\"door number unique values \")\n",
    "print(data['door_number'].unique())\n",
    "\n",
    "print('fiscal horsepower unique values :')\n",
    "print(data['fiscal_horsepower'].unique())\n",
    "\n",
    "\n",
    "print('transmission unique values')\n",
    "print(data['transmission'].unique())\n",
    "\n",
    "# posts with no price we delete the whole row\n",
    "\n",
    "print('brand unique values :')\n",
    "print(data['brand'].unique())\n",
    "\n",
    "\n",
    "print('models unique values:')\n",
    "# print(data['model'].unique())\n",
    "\n",
    "print('kilometrage unique values :')\n",
    "print(data['kilometrage'].unique())\n",
    "\n",
    "print('year unique values')\n",
    "print(data['year'].unique())\n",
    "\n",
    "\n",
    "\n",
    "print('city unique values ')\n",
    "print(data['city'].unique())\n"
   ]
  },
  {
   "cell_type": "code",
   "execution_count": null,
   "metadata": {
    "id": "SItzFz144MRy"
   },
   "outputs": [],
   "source": [
    "columns_to_keep = [\n",
    "    'brand', 'year', 'transmission', 'fuel_type', 'kilometrage', 'model',\n",
    "    'origin', 'first_owner', 'fiscal_horsepower', 'condition', 'abs', 'airbags',\n",
    "    'electric_windows', 'remote_central_locking', 'parking_sensors', 'navigation_system/gps',\n",
    "    'rear_view_camera', 'speed_limiter', 'alloy_wheels', 'esp', 'air_conditioning',\n",
    "    'cd/mp3/bluetooth', 'sieges_cuir', 'ordinateur_de_bord', 'sunroof', 'cruise_control',\n",
    "    'door_number', 'city', 'price_num'\n",
    "]"
   ]
  },
  {
   "cell_type": "code",
   "execution_count": null,
   "metadata": {
    "id": "wkoVBgLi5OOX"
   },
   "outputs": [],
   "source": [
    "data_v1 = data[columns_to_keep].copy()\n",
    "data_v1.rename(columns={'price_num': 'price'}, inplace=True)"
   ]
  },
  {
   "cell_type": "code",
   "execution_count": null,
   "metadata": {
    "id": "Dj7RiA5V9rjM"
   },
   "outputs": [],
   "source": [
    "data_v1.rename(columns={'ordinateur_de_bord': 'on_board_computer', 'sieges_cuir': 'leather_seats' }, inplace=True)"
   ]
  },
  {
   "cell_type": "code",
   "execution_count": null,
   "metadata": {
    "colab": {
     "base_uri": "https://localhost:8080/"
    },
    "id": "IjjMePd85bfk",
    "outputId": "3e09246c-a9ef-46c4-b034-ab8dae25fe94"
   },
   "outputs": [
    {
     "name": "stdout",
     "output_type": "stream",
     "text": [
      "Index(['brand', 'year', 'transmission', 'fuel_type', 'kilometrage', 'model',\n",
      "       'origin', 'first_owner', 'fiscal_horsepower', 'condition', 'abs',\n",
      "       'airbags', 'electric_windows', 'remote_central_locking',\n",
      "       'parking_sensors', 'navigation_system/gps', 'rear_view_camera',\n",
      "       'speed_limiter', 'alloy_wheels', 'esp', 'air_conditioning',\n",
      "       'cd/mp3/bluetooth', 'leather_seats', 'on_board_computer', 'sunroof',\n",
      "       'cruise_control', 'door_number', 'city', 'price'],\n",
      "      dtype='object')\n"
     ]
    }
   ],
   "source": [
    "print(data_v1.columns)"
   ]
  },
  {
   "cell_type": "code",
   "execution_count": null,
   "metadata": {
    "colab": {
     "base_uri": "https://localhost:8080/"
    },
    "id": "2Z3uI1_QF9f5",
    "outputId": "ca5db420-73e5-4c10-8a58-ed30780e466b"
   },
   "outputs": [
    {
     "name": "stdout",
     "output_type": "stream",
     "text": [
      "         brand  year transmission fuel_type        kilometrage     model  \\\n",
      "112    Hyundai  2017     Manuelle   Essence    80 000 - 84 999       i10   \n",
      "235    Hyundai  2022  Automatique    Diesel    85 000 - 89 999    Tucson   \n",
      "282    Hyundai  2021  Automatique   Essence    85 000 - 89 999       i10   \n",
      "374    Hyundai  2006     Manuelle    Diesel  300 000 - 349 999  Terracan   \n",
      "485    Hyundai  2024  Automatique   Essence      5 000 - 9 999    Accent   \n",
      "...        ...   ...          ...       ...                ...       ...   \n",
      "22508   Nissan  2008     Manuelle    Diesel  200 000 - 249 999   Qashqai   \n",
      "22547   Nissan  2017     Manuelle    Diesel  100 000 - 109 999   Qashqai   \n",
      "22590   Nissan  2017     Manuelle    Diesel  100 000 - 109 999   Qashqai   \n",
      "22626   Nissan  2017     Manuelle    Diesel  170 000 - 179 999      Juke   \n",
      "22630   Nissan  2010     Manuelle    Diesel  200 000 - 249 999   Qashqai   \n",
      "\n",
      "            origin first_owner fiscal_horsepower  condition  ...    esp  \\\n",
      "112    WW au Maroc         Non              6 CV  Excellent  ...  False   \n",
      "235    WW au Maroc         Oui              6 CV  Excellent  ...  False   \n",
      "282    WW au Maroc         Oui              6 CV   Tres bon  ...  False   \n",
      "374      Dedouanee         NaN             10 CV   Tres bon  ...  False   \n",
      "485    WW au Maroc         Oui              9 CV       Neuf  ...  False   \n",
      "...            ...         ...               ...        ...  ...    ...   \n",
      "22508    Dedouanee         Non              6 CV  Excellent  ...  False   \n",
      "22547          NaN         Oui              6 CV        NaN  ...  False   \n",
      "22590          NaN         Oui              6 CV        NaN  ...  False   \n",
      "22626  WW au Maroc         Oui              6 CV  Excellent  ...  False   \n",
      "22630  WW au Maroc         Non              8 CV  Excellent  ...  False   \n",
      "\n",
      "       air_conditioning  cd/mp3/bluetooth  leather_seats  on_board_computer  \\\n",
      "112               False             False          False              False   \n",
      "235               False             False          False              False   \n",
      "282               False             False          False              False   \n",
      "374               False             False          False              False   \n",
      "485               False             False          False              False   \n",
      "...                 ...               ...            ...                ...   \n",
      "22508             False             False          False              False   \n",
      "22547             False             False          False              False   \n",
      "22590             False             False          False              False   \n",
      "22626             False             False          False              False   \n",
      "22630              True              True           True               True   \n",
      "\n",
      "       sunroof  cruise_control  door_number        city     price  \n",
      "112      False           False          5.0   Marrakech   95000.0  \n",
      "235      False           False          5.0       Nador  340000.0  \n",
      "282      False           False          5.0       Oujda  118000.0  \n",
      "374      False           False          5.0  Casablanca   75000.0  \n",
      "485      False           False          5.0       Oujda  240000.0  \n",
      "...        ...             ...          ...         ...       ...  \n",
      "22508    False           False          5.0     Kenitra  110000.0  \n",
      "22547    False           False          NaN      Agadir  174000.0  \n",
      "22590    False           False          NaN      Agadir  174000.0  \n",
      "22626    False           False          5.0     Tetouan  135000.0  \n",
      "22630    False           False          5.0  Casablanca   95000.0  \n",
      "\n",
      "[936 rows x 29 columns]\n",
      "936\n"
     ]
    }
   ],
   "source": [
    "duplicates = data_v1[data_v1.duplicated()]\n",
    "print(duplicates)\n",
    "print(data_v1.duplicated().sum())"
   ]
  },
  {
   "cell_type": "code",
   "execution_count": null,
   "metadata": {
    "colab": {
     "base_uri": "https://localhost:8080/"
    },
    "id": "gB35b8GEH-pP",
    "outputId": "4c2b6e18-0758-4fe7-de0b-b600396d0647"
   },
   "outputs": [
    {
     "data": {
      "text/plain": [
       "22639"
      ]
     },
     "execution_count": 24,
     "metadata": {},
     "output_type": "execute_result"
    }
   ],
   "source": [
    "len(data_v1)"
   ]
  },
  {
   "cell_type": "code",
   "execution_count": null,
   "metadata": {
    "id": "P7OfKYCdH8aj"
   },
   "outputs": [],
   "source": [
    "# dropping the duplicates:\n",
    "data_v1 = data_v1.drop_duplicates(keep='first')"
   ]
  },
  {
   "cell_type": "code",
   "execution_count": null,
   "metadata": {
    "colab": {
     "base_uri": "https://localhost:8080/"
    },
    "id": "nGLgjTenIE6J",
    "outputId": "11b82bcc-85a3-4802-f673-d52fec644796"
   },
   "outputs": [
    {
     "name": "stdout",
     "output_type": "stream",
     "text": [
      "21696\n"
     ]
    }
   ],
   "source": [
    "print(len(data_v1))\n"
   ]
  },
  {
   "cell_type": "code",
   "execution_count": null,
   "metadata": {
    "id": "r4nd9Oyj38tY"
   },
   "outputs": [],
   "source": [
    "# Missing Values Visuals :"
   ]
  },
  {
   "cell_type": "code",
   "execution_count": null,
   "metadata": {
    "colab": {
     "base_uri": "https://localhost:8080/",
     "height": 600
    },
    "id": "d6vkVKyZ9WdM",
    "outputId": "adcc0b79-04f2-4ddd-e318-a8701e56562a"
   },
   "outputs": [
    {
     "data": {
      "image/png": "[encoded data removed]",
      "text/plain": [
       "<Figure size 640x480 with 1 Axes>"
      ]
     },
     "metadata": {},
     "output_type": "display_data"
    }
   ],
   "source": [
    "import seaborn as sns\n",
    "import matplotlib.pyplot as plt\n",
    "\n",
    "sns.heatmap(data_v1.isnull(), cbar=False, cmap=\"viridis\")\n",
    "plt.title(\"Missing values heatmap\")\n",
    "plt.show()\n"
   ]
  },
  {
   "cell_type": "code",
   "execution_count": null,
   "metadata": {
    "colab": {
     "base_uri": "https://localhost:8080/"
    },
    "id": "WpQYGZT8-QcX",
    "outputId": "c1d4e281-b90b-472f-f0d9-72a70c50f7fa"
   },
   "outputs": [
    {
     "name": "stdout",
     "output_type": "stream",
     "text": [
      "Missing values\n",
      "brand                        0\n",
      "year                         0\n",
      "transmission                31\n",
      "fuel_type                    0\n",
      "kilometrage                  0\n",
      "model                        0\n",
      "origin                    2528\n",
      "first_owner               2728\n",
      "fiscal_horsepower           38\n",
      "condition                  763\n",
      "abs                          0\n",
      "airbags                      0\n",
      "electric_windows             0\n",
      "remote_central_locking       0\n",
      "parking_sensors              0\n",
      "navigation_system/gps        0\n",
      "rear_view_camera             0\n",
      "speed_limiter                0\n",
      "alloy_wheels                 0\n",
      "esp                          0\n",
      "air_conditioning             0\n",
      "cd/mp3/bluetooth             0\n",
      "leather_seats                0\n",
      "on_board_computer            0\n",
      "sunroof                      0\n",
      "cruise_control               0\n",
      "door_number               2246\n",
      "city                         0\n",
      "price                        0\n",
      "dtype: int64\n"
     ]
    }
   ],
   "source": [
    "# Missing values :\n",
    "print(\"Missing values\")\n",
    "print(data_v1.isnull().sum())"
   ]
  },
  {
   "cell_type": "code",
   "execution_count": null,
   "metadata": {
    "id": "1cr9E7r_COxO"
   },
   "outputs": [],
   "source": [
    "data_v1.dropna(subset=['price', 'year', 'city'], how='all', inplace=True)"
   ]
  },
  {
   "cell_type": "code",
   "execution_count": null,
   "metadata": {
    "colab": {
     "base_uri": "https://localhost:8080/",
     "height": 99
    },
    "id": "EiO8ycF_YVzE",
    "outputId": "f5ed6608-c4b7-4f0a-a37e-eb1bc4d774c0"
   },
   "outputs": [
    {
     "data": {
      "text/html": [
       "<div>\n",
       "<style scoped>\n",
       "    .dataframe tbody tr th:only-of-type {\n",
       "        vertical-align: middle;\n",
       "    }\n",
       "\n",
       "    .dataframe tbody tr th {\n",
       "        vertical-align: top;\n",
       "    }\n",
       "\n",
       "    .dataframe thead th {\n",
       "        text-align: right;\n",
       "    }\n",
       "</style>\n",
       "<table border=\"1\" class=\"dataframe\">\n",
       "  <thead>\n",
       "    <tr style=\"text-align: right;\">\n",
       "      <th></th>\n",
       "      <th>brand</th>\n",
       "      <th>year</th>\n",
       "      <th>transmission</th>\n",
       "      <th>fuel_type</th>\n",
       "      <th>kilometrage</th>\n",
       "      <th>model</th>\n",
       "      <th>origin</th>\n",
       "      <th>first_owner</th>\n",
       "      <th>fiscal_horsepower</th>\n",
       "      <th>condition</th>\n",
       "      <th>...</th>\n",
       "      <th>esp</th>\n",
       "      <th>air_conditioning</th>\n",
       "      <th>cd/mp3/bluetooth</th>\n",
       "      <th>leather_seats</th>\n",
       "      <th>on_board_computer</th>\n",
       "      <th>sunroof</th>\n",
       "      <th>cruise_control</th>\n",
       "      <th>door_number</th>\n",
       "      <th>city</th>\n",
       "      <th>price</th>\n",
       "    </tr>\n",
       "  </thead>\n",
       "  <tbody>\n",
       "  </tbody>\n",
       "</table>\n",
       "<p>0 rows × 29 columns</p>\n",
       "</div>"
      ],
      "text/plain": [
       "Empty DataFrame\n",
       "Columns: [brand, year, transmission, fuel_type, kilometrage, model, origin, first_owner, fiscal_horsepower, condition, abs, airbags, electric_windows, remote_central_locking, parking_sensors, navigation_system/gps, rear_view_camera, speed_limiter, alloy_wheels, esp, air_conditioning, cd/mp3/bluetooth, leather_seats, on_board_computer, sunroof, cruise_control, door_number, city, price]\n",
       "Index: []\n",
       "\n",
       "[0 rows x 29 columns]"
      ]
     },
     "execution_count": 29,
     "metadata": {},
     "output_type": "execute_result"
    }
   ],
   "source": [
    "data_v1[data_v1['city'].isnull()]"
   ]
  },
  {
   "cell_type": "code",
   "execution_count": null,
   "metadata": {
    "colab": {
     "base_uri": "https://localhost:8080/",
     "height": 600
    },
    "id": "XstS58CdYsf1",
    "outputId": "24d708c6-9d8a-4a70-bfa6-c2d58a8b94c9"
   },
   "outputs": [
    {
     "data": {
      "image/png": "[encoded data removed]",
      "text/plain": [
       "<Figure size 640x480 with 1 Axes>"
      ]
     },
     "metadata": {},
     "output_type": "display_data"
    }
   ],
   "source": [
    "import seaborn as sns\n",
    "# y-axis is the row indices/numbers in the dataframe\n",
    "# y axis shows which rows have missing data\n",
    "\n",
    "sns.heatmap(data_v1.isnull(), cbar=False, cmap=\"viridis\")\n",
    "plt.title(\"Missing values heatmap\")\n",
    "plt.show()"
   ]
  },
  {
   "cell_type": "code",
   "execution_count": null,
   "metadata": {
    "colab": {
     "base_uri": "https://localhost:8080/",
     "height": 675
    },
    "id": "Ug3PKeJ1mBpS",
    "outputId": "7dd1331d-644e-4269-b318-ec27d22d3ab8"
   },
   "outputs": [
    {
     "data": {
      "image/png": "[encoded data removed]",
      "text/plain": [
       "<Figure size 1000x600 with 1 Axes>"
      ]
     },
     "metadata": {},
     "output_type": "display_data"
    }
   ],
   "source": [
    "import matplotlib.pyplot as plt\n",
    "\n",
    "# Count missing values for each column\n",
    "missing_data = data_v1.isnull().sum()\n",
    "\n",
    "# Create a bar plot\n",
    "plt.figure(figsize=(10,6))\n",
    "missing_data[missing_data > 0].sort_values(ascending=False).plot(kind='bar', color='orange')\n",
    "plt.title('Missing Values Count per Column')\n",
    "plt.ylabel('Count of Missing Values')\n",
    "plt.xlabel('Columns')\n",
    "plt.show()"
   ]
  },
  {
   "cell_type": "code",
   "execution_count": null,
   "metadata": {
    "colab": {
     "base_uri": "https://localhost:8080/"
    },
    "id": "UJjAlY_-Cmn8",
    "outputId": "554fbfd3-96d3-4e5a-a662-52f1307c2c19"
   },
   "outputs": [
    {
     "name": "stdout",
     "output_type": "stream",
     "text": [
      "Missing values\n",
      "Index (All columns) :\n",
      " Index(['brand', 'year', 'transmission', 'fuel_type', 'kilometrage', 'model',\n",
      "       'origin', 'first_owner', 'fiscal_horsepower', 'condition', 'abs',\n",
      "       'airbags', 'electric_windows', 'remote_central_locking',\n",
      "       'parking_sensors', 'navigation_system/gps', 'rear_view_camera',\n",
      "       'speed_limiter', 'alloy_wheels', 'esp', 'air_conditioning',\n",
      "       'cd/mp3/bluetooth', 'leather_seats', 'on_board_computer', 'sunroof',\n",
      "       'cruise_control', 'door_number', 'city', 'price'],\n",
      "      dtype='object')\n",
      "\n",
      "Index (Only columns with missing values) : \n",
      " ['transmission', 'origin', 'first_owner', 'fiscal_horsepower', 'condition', 'door_number']\n",
      "\n",
      "\n",
      "transmission           31\n",
      "origin               2528\n",
      "first_owner          2728\n",
      "fiscal_horsepower      38\n",
      "condition             763\n",
      "door_number          2246\n",
      "dtype: int64\n"
     ]
    }
   ],
   "source": [
    "# Missing values :\n",
    "print(\"Missing values\")\n",
    "\n",
    "k = data_v1.isnull().sum()\n",
    "print(\"Index (All columns) :\\n\" , k.index)\n",
    "print()\n",
    "cols_with_missing_values = k[k>0]\n",
    "print(\"Index (Only columns with missing values) : \\n\",\n",
    "      [*cols_with_missing_values.index])\n",
    "\n",
    "print(k[k > 0])"
   ]
  },
  {
   "cell_type": "code",
   "execution_count": null,
   "metadata": {
    "colab": {
     "base_uri": "https://localhost:8080/"
    },
    "id": "lfKan0E2ZcMY",
    "outputId": "e5d0efdd-f29b-464b-9731-f1239c2ef0d2"
   },
   "outputs": [
    {
     "name": "stdout",
     "output_type": "stream",
     "text": [
      "Unique values in 'transmission':\n",
      "['Automatique' 'Manuelle' nan]\n",
      "----------------------------------------\n",
      "Unique values in 'origin':\n",
      "['Importee neuve' 'WW au Maroc' nan 'Dedouanee' 'Pas encore dedouanee']\n",
      "----------------------------------------\n",
      "Unique values in 'first_owner':\n",
      "['Oui' 'Non' nan]\n",
      "----------------------------------------\n",
      "Unique values in 'fiscal_horsepower':\n",
      "['4 CV' '10 CV' '9 CV' '14 CV' '8 CV' '7 CV' '24 CV' '12 CV' '11 CV'\n",
      " '6 CV' '5 CV' '22 CV' '13 CV' '16 CV' '20 CV' 'Plus de 41 CV' '30 CV' nan\n",
      " '21 CV' '17 CV' '19 CV' '15 CV' '23 CV' '25 CV' '37 CV' '36 CV' '38 CV'\n",
      " '31 CV' '27 CV' '18 CV' '26 CV' '32 CV' '28 CV' '39 CV' '41 CV' '33 CV'\n",
      " '34 CV' '29 CV' '40 CV' '35 CV']\n",
      "----------------------------------------\n",
      "Unique values in 'condition':\n",
      "['Tres bon' 'Bon' 'Excellent' 'Neuf' 'Pour Pieces' 'Correct' nan\n",
      " 'Endommage']\n",
      "----------------------------------------\n",
      "Unique values in 'door_number':\n",
      "[nan  5.  3.]\n",
      "----------------------------------------\n"
     ]
    }
   ],
   "source": [
    "\n",
    "for col in [*cols_with_missing_values.index]:\n",
    "    print(f\"Unique values in '{col}':\")\n",
    "    print(data_v1[col].unique())\n",
    "    print(\"-\" * 40)"
   ]
  },
  {
   "cell_type": "code",
   "execution_count": null,
   "metadata": {
    "colab": {
     "base_uri": "https://localhost:8080/"
    },
    "id": "mKhybmMTdXRL",
    "outputId": "ac302ada-0c5b-4435-d1fc-f0e256b9f79a"
   },
   "outputs": [
    {
     "name": "stdout",
     "output_type": "stream",
     "text": [
      "Uniques values count in transmission\n",
      "\n",
      "Manuelle       13531\n",
      "Automatique     8134\n",
      "NaN               31\n",
      "Name: transmission, dtype: int64\n",
      "----------------------------------------\n",
      "Uniques values count in origin\n",
      "\n",
      "WW au Maroc             15276\n",
      "Dedouanee                2842\n",
      "NaN                      2528\n",
      "Importee neuve            916\n",
      "Pas encore dedouanee      134\n",
      "Name: origin, dtype: int64\n",
      "----------------------------------------\n",
      "Uniques values count in first_owner\n",
      "\n",
      "Non    11598\n",
      "Oui     7370\n",
      "NaN     2728\n",
      "Name: first_owner, dtype: int64\n",
      "----------------------------------------\n",
      "Uniques values count in fiscal_horsepower\n",
      "\n",
      "6 CV             7633\n",
      "8 CV             6325\n",
      "7 CV             2070\n",
      "9 CV             1607\n",
      "5 CV              899\n",
      "10 CV             866\n",
      "12 CV             829\n",
      "11 CV             697\n",
      "4 CV              233\n",
      "13 CV              85\n",
      "17 CV              79\n",
      "14 CV              63\n",
      "Plus de 41 CV      54\n",
      "20 CV              42\n",
      "NaN                38\n",
      "15 CV              25\n",
      "16 CV              24\n",
      "21 CV              24\n",
      "24 CV              15\n",
      "23 CV              13\n",
      "28 CV              11\n",
      "22 CV               9\n",
      "18 CV               8\n",
      "30 CV               8\n",
      "19 CV               6\n",
      "25 CV               5\n",
      "26 CV               4\n",
      "36 CV               3\n",
      "31 CV               3\n",
      "32 CV               3\n",
      "34 CV               3\n",
      "27 CV               2\n",
      "37 CV               2\n",
      "33 CV               2\n",
      "38 CV               1\n",
      "39 CV               1\n",
      "41 CV               1\n",
      "29 CV               1\n",
      "40 CV               1\n",
      "35 CV               1\n",
      "Name: fiscal_horsepower, dtype: int64\n",
      "----------------------------------------\n",
      "Uniques values count in condition\n",
      "\n",
      "Excellent      9730\n",
      "Tres bon       7470\n",
      "Bon            2733\n",
      "NaN             763\n",
      "Neuf            591\n",
      "Correct         376\n",
      "Endommage        18\n",
      "Pour Pieces      15\n",
      "Name: condition, dtype: int64\n",
      "----------------------------------------\n",
      "Uniques values count in door_number\n",
      "\n",
      "5.0    18243\n",
      "NaN     2246\n",
      "3.0     1207\n",
      "Name: door_number, dtype: int64\n",
      "----------------------------------------\n"
     ]
    }
   ],
   "source": [
    "for col in [*cols_with_missing_values.index]:\n",
    "    print(f\"Uniques values count in {col}\")\n",
    "    print()\n",
    "    print(data_v1[col].value_counts(dropna=False))\n",
    "    print(\"-\" * 40)"
   ]
  },
  {
   "cell_type": "code",
   "execution_count": null,
   "metadata": {
    "id": "CnNJS665hfti"
   },
   "outputs": [],
   "source": [
    "# REplacing null values :\n",
    "\n",
    "#  transmission (Categorical)  Manuelle(14210) Automatique(8385)\n",
    "#  replace with most frequent (mode)  NaN=31\n",
    "data_v1['transmission'].fillna(data_v1['transmission'].mode()[0], inplace=True)\n",
    "\n",
    "# origin 4 values - Categorical\n",
    "# WW au Maroc             15965\n",
    "# Dedouanee                2958\n",
    "# NaN                      2621\n",
    "# Importee neuve            945\n",
    "# Pas encore dedouanee      137\n",
    "# replace with fill with most frequent ? mode\n",
    "data_v1['origin'].fillna(data_v1['origin'].mode()[0], inplace=True)\n",
    "\n",
    "\n",
    "# first_ower\n",
    "# binary yes/no\n",
    "# fill with most frequent = mode = non\n",
    "data_v1['first_owner'].fillna(data_v1['first_owner'].mode()[0], inplace=True)\n",
    "\n",
    "# fiscal_horspower\n",
    "# many options = categorical\n",
    "# replace with most frequent 6CV\n",
    "data_v1['fiscal_horsepower'].fillna(data_v1['fiscal_horsepower'].mode()[0], inplace=True)\n",
    "\n",
    "\n",
    "# condition\n",
    "# categorical\n",
    "# fill with most frequent = mode = Excellent\n",
    "data_v1['condition'].fillna(data_v1['condition'].mode()[0], inplace=True)\n",
    "\n",
    "\n",
    "# door_number :\n",
    "#categorical\n",
    "# most frequent = mode = 5\n",
    "data_v1['door_number'].fillna(data_v1['door_number'].mode()[0], inplace=True)\n"
   ]
  },
  {
   "cell_type": "code",
   "execution_count": null,
   "metadata": {
    "id": "XNVzuBGHwzmm"
   },
   "outputs": [],
   "source": [
    "# For screens ::"
   ]
  },
  {
   "cell_type": "code",
   "execution_count": null,
   "metadata": {
    "id": "T1WCqixzwzmn"
   },
   "outputs": [],
   "source": [
    "# Origine : variable catégorielle avec 4 modalités connues + valeurs manquantes\n",
    "# Modalités principales : # For screens :: \"WW au Maroc\" | \"Dédouanée\" | \"Importée neuve\" | \"Pas encore dédouanée\"\n",
    "# Valeurs manquantes : 2 621\n",
    "# Stratégie : remplacement par la modalité la plus fréquente => \"WW au Maroc\"\n",
    "data_v1['origin'].fillna(data_v1['origin'].mode()[0], inplace=True)"
   ]
  },
  {
   "cell_type": "code",
   "execution_count": null,
   "metadata": {
    "id": "eVDCPLTwwzmn"
   },
   "outputs": [],
   "source": [
    "# Puissance fiscale : à l’origine catégorielle (ex : \"6CV\", \"7CV\"....)\n",
    "# Valeurs manquantes : remplacées par la modalité la plus fréquente => \"6CV\"\n",
    "# Remarque : bien que convertie ensuite en numérique, le traitement est cohérent car\n",
    "# il s’agit de valeurs discrètes.\n",
    "data_v1['fiscal_horsepower'].fillna(data_v1['fiscal_horsepower'].mode()[0], inplace=True)\n"
   ]
  },
  {
   "cell_type": "code",
   "execution_count": null,
   "metadata": {
    "id": "8E9fpjWgwzmn"
   },
   "outputs": [],
   "source": [
    "# État du véhicule (condition) : variable catégorielle\n",
    "# Modalités typiques : \"Excellent\", \"Bon\",...\n",
    "# Valeurs manquantes : remplacées par la modalité la plus fréquente => \"Excellent\"\n",
    "data_v1['condition'].fillna(data_v1['condition'].mode()[0], inplace=True)\n"
   ]
  },
  {
   "cell_type": "code",
   "execution_count": null,
   "metadata": {
    "id": "w8eQ20a9wzmo"
   },
   "outputs": [],
   "source": [
    "# Nombre de portes : discrète mais traitée comme catégorielle (ex : 3, 4, 5)\n",
    "# Valeurs manquantes : remplacées par la modalité la plus fréquente => 5\n",
    "data_v1['door_number'].fillna(data_v1['door_number'].mode()[0], inplace=True)"
   ]
  },
  {
   "cell_type": "code",
   "execution_count": null,
   "metadata": {
    "colab": {
     "base_uri": "https://localhost:8080/",
     "height": 600
    },
    "id": "owkt4Yd20b3S",
    "outputId": "307ecbfa-2913-45f5-dee7-dc33ef32d148"
   },
   "outputs": [
    {
     "data": {
      "image/png": "[encoded data removed]",
      "text/plain": [
       "<Figure size 640x480 with 1 Axes>"
      ]
     },
     "metadata": {},
     "output_type": "display_data"
    }
   ],
   "source": [
    "# after imputation :\n",
    "import seaborn as sns\n",
    "# y-axis is the row indices/numbers in the dataframe\n",
    "# y axis shows which rows have missing data\n",
    "\n",
    "sns.heatmap(data_v1.isnull(), cbar=False, cmap=\"viridis\")\n",
    "plt.title(\"Missing values heatmap\")\n",
    "plt.show()"
   ]
  },
  {
   "cell_type": "code",
   "execution_count": null,
   "metadata": {
    "colab": {
     "base_uri": "https://localhost:8080/",
     "height": 994
    },
    "id": "h8vUryPa0vAe",
    "outputId": "7c38ccb3-4268-49e0-9028-c655193b5df1"
   },
   "outputs": [
    {
     "data": {
      "text/plain": [
       "brand                     0\n",
       "year                      0\n",
       "transmission              0\n",
       "fuel_type                 0\n",
       "kilometrage               0\n",
       "model                     0\n",
       "origin                    0\n",
       "first_owner               0\n",
       "fiscal_horsepower         0\n",
       "condition                 0\n",
       "abs                       0\n",
       "airbags                   0\n",
       "electric_windows          0\n",
       "remote_central_locking    0\n",
       "parking_sensors           0\n",
       "navigation_system/gps     0\n",
       "rear_view_camera          0\n",
       "speed_limiter             0\n",
       "alloy_wheels              0\n",
       "esp                       0\n",
       "air_conditioning          0\n",
       "cd/mp3/bluetooth          0\n",
       "leather_seats             0\n",
       "on_board_computer         0\n",
       "sunroof                   0\n",
       "cruise_control            0\n",
       "door_number               0\n",
       "city                      0\n",
       "price                     0\n",
       "dtype: int64"
      ]
     },
     "execution_count": 47,
     "metadata": {},
     "output_type": "execute_result"
    }
   ],
   "source": [
    "data_v1.isnull().sum()"
   ]
  },
  {
   "cell_type": "code",
   "execution_count": null,
   "metadata": {
    "colab": {
     "base_uri": "https://localhost:8080/",
     "height": 228
    },
    "id": "1XTdzUdjHmI4",
    "outputId": "f7bb78a5-e2c5-4a15-ed7e-7a2cc502077f"
   },
   "outputs": [
    {
     "data": {
      "text/plain": [
       "0         17499.5\n",
       "1        274999.5\n",
       "2          2499.5\n",
       "3        194999.5\n",
       "4        224999.5\n",
       "           ...   \n",
       "22634    274999.5\n",
       "22635    274999.5\n",
       "22636    144999.5\n",
       "22637    174999.5\n",
       "22638    154999.5\n",
       "Name: kilometrage_num, Length: 21696, dtype: float64"
      ]
     },
     "execution_count": 66,
     "metadata": {},
     "output_type": "execute_result"
    }
   ],
   "source": [
    "# transforming the categorical kilometrage to number\n",
    "# transforming the categroical horsepower to number\n",
    "# data_v1['kilometrage_num'] = data_v1['kilometrage_num'] = data_v1['kilometrage'].str.replace(' ', '').str.split('-').apply(lambda x: (int(x[0]) + int(x[1])) / 2)\n",
    "\n",
    "# data looks like this 0-4999 , ranges,, explain with examples\n",
    "data_v1['kilometrage_num'] = data_v1['kilometrage'].str.replace(' ', '').apply(lambda x: int(x.replace('Plusde', '')) if 'Plusde' in x else (int(x.split('-')[0]) + int(x.split('-')[1])) / 2)\n",
    "\n",
    "# categoy means no order\n",
    "data_v1['kilometrage_num']\n",
    "\n"
   ]
  },
  {
   "cell_type": "code",
   "execution_count": null,
   "metadata": {
    "id": "L_j8flV4wzmy",
    "outputId": "a834188f-31e3-483a-fd36-26eb1d0c3a3c"
   },
   "outputs": [
    {
     "data": {
      "text/plain": [
       "0         4.0\n",
       "1        10.0\n",
       "2         9.0\n",
       "3        14.0\n",
       "4         8.0\n",
       "         ... \n",
       "22634     6.0\n",
       "22635     8.0\n",
       "22636    10.0\n",
       "22637     6.0\n",
       "22638     6.0\n",
       "Name: fiscal_horsepower_num, Length: 21696, dtype: float64"
      ]
     },
     "execution_count": 74,
     "metadata": {},
     "output_type": "execute_result"
    }
   ],
   "source": [
    "data_v1['fiscal_horsepower_num'] = data_v1['fiscal_horsepower'].str.extract(r'(\\d+)').astype(float)\n",
    "data_v1['fiscal_horsepower_num']"
   ]
  },
  {
   "cell_type": "code",
   "execution_count": null,
   "metadata": {
    "id": "Fu0div4Swzmy",
    "outputId": "978eee90-f974-4435-c00a-b7602b46a3cb"
   },
   "outputs": [
    {
     "data": {
      "text/plain": [
       "brand                      object\n",
       "year                       object\n",
       "transmission               object\n",
       "fuel_type                  object\n",
       "kilometrage                object\n",
       "model                      object\n",
       "origin                     object\n",
       "first_owner                object\n",
       "fiscal_horsepower          object\n",
       "condition                  object\n",
       "abs                          bool\n",
       "airbags                      bool\n",
       "electric_windows             bool\n",
       "remote_central_locking       bool\n",
       "parking_sensors              bool\n",
       "navigation_system/gps        bool\n",
       "rear_view_camera             bool\n",
       "speed_limiter                bool\n",
       "alloy_wheels                 bool\n",
       "esp                          bool\n",
       "air_conditioning             bool\n",
       "cd/mp3/bluetooth             bool\n",
       "leather_seats                bool\n",
       "on_board_computer            bool\n",
       "sunroof                      bool\n",
       "cruise_control               bool\n",
       "door_number               float64\n",
       "city                       object\n",
       "price                     float64\n",
       "kilometrage_num           float64\n",
       "fiscal_horsepower_num     float64\n",
       "dtype: object"
      ]
     },
     "execution_count": 75,
     "metadata": {},
     "output_type": "execute_result"
    }
   ],
   "source": [
    "data_v1.dtypes"
   ]
  },
  {
   "cell_type": "code",
   "execution_count": null,
   "metadata": {
    "id": "ZURNhQ9Uwzmy"
   },
   "outputs": [],
   "source": [
    "data_v1['year'] = data_v1['year'].str.extract(r'(\\d{4})').astype(float).astype('Int64')"
   ]
  },
  {
   "cell_type": "code",
   "execution_count": null,
   "metadata": {
    "id": "Omuj8mlUwzmz",
    "outputId": "f93b5a2d-5b07-4865-ebbe-655b5a481ac5"
   },
   "outputs": [
    {
     "name": "stdout",
     "output_type": "stream",
     "text": [
      "[2014 2000 2001 1998 1994 2020 2018 2007 2013 2012 1999 1997 2006 1996\n",
      " 2008 2023 2022 2016 2021 2017 2015 2019 2011 2010 2005 2009 2024 2025\n",
      " 2004 2003 2002 1993 1995 1987 1986 1989 1991 1988 1992 1990 1985 1980\n",
      " 1983 1984 1982 1981]\n"
     ]
    }
   ],
   "source": [
    "print(data_v1['year'].unique())\n"
   ]
  },
  {
   "cell_type": "code",
   "execution_count": null,
   "metadata": {
    "id": "NpphslLDwzmz"
   },
   "outputs": [],
   "source": [
    "# Finally to integer (nullable Int64)\n",
    "data_v1['year'] = data_v1['year'].astype('Int64')"
   ]
  },
  {
   "cell_type": "code",
   "execution_count": null,
   "metadata": {
    "id": "V6N7VHDRwzmz",
    "outputId": "f62df4ff-5e69-4906-c042-9a7ed80e5ad5"
   },
   "outputs": [
    {
     "data": {
      "text/plain": [
       "brand                      object\n",
       "year                        Int64\n",
       "transmission               object\n",
       "fuel_type                  object\n",
       "kilometrage                object\n",
       "model                      object\n",
       "origin                     object\n",
       "first_owner                object\n",
       "fiscal_horsepower          object\n",
       "condition                  object\n",
       "abs                          bool\n",
       "airbags                      bool\n",
       "electric_windows             bool\n",
       "remote_central_locking       bool\n",
       "parking_sensors              bool\n",
       "navigation_system/gps        bool\n",
       "rear_view_camera             bool\n",
       "speed_limiter                bool\n",
       "alloy_wheels                 bool\n",
       "esp                          bool\n",
       "air_conditioning             bool\n",
       "cd/mp3/bluetooth             bool\n",
       "leather_seats                bool\n",
       "on_board_computer            bool\n",
       "sunroof                      bool\n",
       "cruise_control               bool\n",
       "door_number               float64\n",
       "city                       object\n",
       "price                     float64\n",
       "kilometrage_num           float64\n",
       "fiscal_horsepower_num     float64\n",
       "dtype: object"
      ]
     },
     "execution_count": 82,
     "metadata": {},
     "output_type": "execute_result"
    }
   ],
   "source": [
    "data_v1.dtypes"
   ]
  },
  {
   "cell_type": "code",
   "execution_count": null,
   "metadata": {
    "id": "C8reCh9qwzmz",
    "outputId": "9d373e57-61b9-44c7-e0a4-836c11f351e9"
   },
   "outputs": [
    {
     "name": "stdout",
     "output_type": "stream",
     "text": [
      "----------------------------------------\n",
      "Unique values of column brand\n",
      "['Lada' 'Rover' 'Hyundai' 'Chery' 'Mazda' 'Dacia' 'Jaguar' 'Peugeot'\n",
      " 'Opel' 'Mercedes-Benz' 'Renault' 'Volkswagen' 'Kia' 'Seat' 'Toyota'\n",
      " 'Ssangyong' 'Citroen' 'Alfa Romeo' 'Mitsubishi' 'Porsche' 'DFSK' 'Jeep'\n",
      " 'Skoda' 'Ford' 'BMW' 'Geely' 'Daewoo' 'Fiat' 'Honda' 'Volvo' 'Suzuki'\n",
      " 'Chevrolet' 'Cadillac' 'Audi' 'Nissan']\n",
      "----------------------------------------\n",
      "Unique values of column year\n",
      "['2014' '2000' '2001' '1998' '1994' '2020' '2018' '2007' '2013' '2012'\n",
      " '1999' '1997' '2006' '1996' '2008' '2023' '2022' '2016' '2021' '2017'\n",
      " '2015' '2019' '2011' '2010' '2005' '2009' '2024' '2025' '2004' '2003'\n",
      " '2002' '1993' '1995' '1987' '1986' '1989' '1991' '1988' '1992' '1990'\n",
      " '1985' '1980 ou plus ancien' '1983' '1984' '1982' '1981']\n",
      "----------------------------------------\n",
      "Unique values of column transmission\n",
      "['Automatique' 'Manuelle']\n",
      "----------------------------------------\n",
      "Unique values of column fuel_type\n",
      "['Electrique' 'Essence' 'Diesel' 'Hybride' 'LPG']\n",
      "----------------------------------------\n",
      "Unique values of column origin\n",
      "['Importee neuve' 'WW au Maroc' 'Dedouanee' 'Pas encore dedouanee']\n",
      "----------------------------------------\n",
      "Unique values of column first_owner\n",
      "['Oui' 'Non']\n",
      "----------------------------------------\n",
      "Unique values of column fiscal_horsepower\n",
      "['4 CV' '10 CV' '9 CV' '14 CV' '8 CV' '7 CV' '24 CV' '12 CV' '11 CV'\n",
      " '6 CV' '5 CV' '22 CV' '13 CV' '16 CV' '20 CV' 'Plus de 41 CV' '30 CV'\n",
      " '21 CV' '17 CV' '19 CV' '15 CV' '23 CV' '25 CV' '37 CV' '36 CV' '38 CV'\n",
      " '31 CV' '27 CV' '18 CV' '26 CV' '32 CV' '28 CV' '39 CV' '41 CV' '33 CV'\n",
      " '34 CV' '29 CV' '40 CV' '35 CV']\n",
      "----------------------------------------\n",
      "Unique values of column condition\n",
      "['Tres bon' 'Bon' 'Excellent' 'Neuf' 'Pour Pieces' 'Correct' 'Endommage']\n",
      "----------------------------------------\n",
      "Unique values of column abs\n",
      "[False  True]\n",
      "----------------------------------------\n",
      "Unique values of column airbags\n",
      "[False  True]\n",
      "----------------------------------------\n",
      "Unique values of column electric_windows\n",
      "[False  True]\n",
      "----------------------------------------\n",
      "Unique values of column remote_central_locking\n",
      "[False  True]\n",
      "----------------------------------------\n",
      "Unique values of column parking_sensors\n",
      "[False  True]\n",
      "----------------------------------------\n",
      "Unique values of column navigation_system/gps\n",
      "[False  True]\n",
      "----------------------------------------\n",
      "Unique values of column rear_view_camera\n",
      "[False  True]\n",
      "----------------------------------------\n",
      "Unique values of column speed_limiter\n",
      "[False  True]\n",
      "----------------------------------------\n",
      "Unique values of column alloy_wheels\n",
      "[False  True]\n",
      "----------------------------------------\n",
      "Unique values of column esp\n",
      "[False  True]\n",
      "----------------------------------------\n",
      "Unique values of column air_conditioning\n",
      "[False  True]\n",
      "----------------------------------------\n",
      "Unique values of column cd/mp3/bluetooth\n",
      "[False  True]\n",
      "----------------------------------------\n",
      "Unique values of column leather_seats\n",
      "[False  True]\n",
      "----------------------------------------\n",
      "Unique values of column on_board_computer\n",
      "[False  True]\n",
      "----------------------------------------\n",
      "Unique values of column sunroof\n",
      "[False  True]\n",
      "----------------------------------------\n",
      "Unique values of column cruise_control\n",
      "[False  True]\n",
      "----------------------------------------\n",
      "Unique values of column door_number\n",
      "[5. 3.]\n",
      "----------------------------------------\n",
      "Unique values of column kilometrage_num\n",
      "[ 17499.5 274999.5   2499.5 194999.5 224999.5  47499.5   7499.5 164999.5\n",
      "  42499.5 124999.5 114999.5  32499.5 474999.5 134999.5  12499.5  67499.5\n",
      " 174999.5 374999.5 154999.5  27499.5 324999.5  22499.5  82499.5  77499.5\n",
      " 184999.5  87499.5  57499.5  62499.5 144999.5 104999.5  72499.5  92499.5\n",
      "  37499.5  97499.5  52499.5 424999.5 500000. ]\n"
     ]
    }
   ],
   "source": [
    "# all uniques values of all columns :\n",
    "for col in data_v1.columns:\n",
    "    if col != 'price'and col != 'city' and col != 'kilometrage' and col != 'model':\n",
    "        print(\"-\" * 40)\n",
    "        print(f\"Unique values of column {col}\")\n",
    "        print(data_v1[col].unique())\n",
    "\n"
   ]
  },
  {
   "cell_type": "code",
   "execution_count": null,
   "metadata": {
    "id": "Lu5U8z_5wzm-"
   },
   "outputs": [],
   "source": [
    "data_v1.drop(data_v1[data_v1['brand'] == 'Lada'].index, inplace=True)"
   ]
  },
  {
   "cell_type": "code",
   "execution_count": null,
   "metadata": {
    "id": "OZvczA-VwznK",
    "outputId": "942df5c1-3335-4ed6-e50e-7b2496965360"
   },
   "outputs": [
    {
     "data": {
      "text/plain": [
       "Index(['brand', 'year', 'transmission', 'fuel_type', 'kilometrage', 'model',\n",
       "       'origin', 'first_owner', 'fiscal_horsepower', 'condition', 'abs',\n",
       "       'airbags', 'electric_windows', 'remote_central_locking',\n",
       "       'parking_sensors', 'navigation_system/gps', 'rear_view_camera',\n",
       "       'speed_limiter', 'alloy_wheels', 'esp', 'air_conditioning',\n",
       "       'cd/mp3/bluetooth', 'leather_seats', 'on_board_computer', 'sunroof',\n",
       "       'cruise_control', 'door_number', 'city', 'price', 'kilometrage_num',\n",
       "       'fiscal_horsepower_num'],\n",
       "      dtype='object')"
      ]
     },
     "execution_count": 180,
     "metadata": {},
     "output_type": "execute_result"
    }
   ],
   "source": [
    "data_v1.columns\n"
   ]
  },
  {
   "cell_type": "code",
   "execution_count": null,
   "metadata": {
    "id": "FOh0rpGXwznK",
    "outputId": "916107b8-192d-40f2-a180-d50afefc710f"
   },
   "outputs": [
    {
     "data": {
      "text/plain": [
       "brand                      object\n",
       "year                        Int64\n",
       "transmission               object\n",
       "fuel_type                  object\n",
       "kilometrage                object\n",
       "model                      object\n",
       "origin                     object\n",
       "first_owner                object\n",
       "fiscal_horsepower          object\n",
       "condition                  object\n",
       "abs                          bool\n",
       "airbags                      bool\n",
       "electric_windows             bool\n",
       "remote_central_locking       bool\n",
       "parking_sensors              bool\n",
       "navigation_system/gps        bool\n",
       "rear_view_camera             bool\n",
       "speed_limiter                bool\n",
       "alloy_wheels                 bool\n",
       "esp                          bool\n",
       "air_conditioning             bool\n",
       "cd/mp3/bluetooth             bool\n",
       "leather_seats                bool\n",
       "on_board_computer            bool\n",
       "sunroof                      bool\n",
       "cruise_control               bool\n",
       "door_number               float64\n",
       "city                       object\n",
       "price                     float64\n",
       "kilometrage_num           float64\n",
       "fiscal_horsepower_num     float64\n",
       "dtype: object"
      ]
     },
     "execution_count": 181,
     "metadata": {},
     "output_type": "execute_result"
    }
   ],
   "source": [
    "data_v1.dtypes"
   ]
  },
  {
   "cell_type": "code",
   "execution_count": null,
   "metadata": {
    "id": "pJocrtaNwznM",
    "outputId": "023ead28-2a40-44ec-c103-5db1be887f4d"
   },
   "outputs": [
    {
     "name": "stdout",
     "output_type": "stream",
     "text": [
      "            brand  year transmission   fuel_type        kilometrage  \\\n",
      "1375        Dacia  2025     Manuelle  Electrique  300 000 - 349 999   \n",
      "3937         Opel  2017     Manuelle  Electrique  170 000 - 179 999   \n",
      "4014         Opel  2017     Manuelle  Electrique  170 000 - 179 999   \n",
      "7624   Volkswagen  2017     Manuelle  Electrique    20 000 - 24 999   \n",
      "11748     Citroen  2006     Manuelle  Electrique  300 000 - 349 999   \n",
      "13143     Porsche  2020     Manuelle  Electrique    95 000 - 99 999   \n",
      "15084        Ford  2019     Manuelle  Electrique  120 000 - 129 999   \n",
      "\n",
      "           model       origin first_owner fiscal_horsepower  condition  ...  \\\n",
      "1375       Logan  WW au Maroc         Non              8 CV  Excellent  ...   \n",
      "3937       Astra  WW au Maroc         Non              6 CV   Tres bon  ...   \n",
      "4014       Astra  WW au Maroc         Non              6 CV   Tres bon  ...   \n",
      "7624   Caravelle  WW au Maroc         Non              8 CV  Excellent  ...   \n",
      "11748         C4  WW au Maroc         Non              6 CV   Tres bon  ...   \n",
      "13143    Cayenne  WW au Maroc         Non              6 CV  Excellent  ...   \n",
      "15084     Fiesta  WW au Maroc         Non              6 CV  Excellent  ...   \n",
      "\n",
      "       cd/mp3/bluetooth  leather_seats  on_board_computer  sunroof  \\\n",
      "1375              False          False              False    False   \n",
      "3937               True          False               True    False   \n",
      "4014               True          False               True    False   \n",
      "7624              False          False              False    False   \n",
      "11748             False          False              False    False   \n",
      "13143             False          False              False    False   \n",
      "15084              True          False               True    False   \n",
      "\n",
      "       cruise_control  door_number        city     price  kilometrage_num  \\\n",
      "1375            False          5.0  Mohammedia   53000.0         324999.5   \n",
      "3937             True          5.0  Casablanca   14000.0         174999.5   \n",
      "4014             True          5.0  Casablanca  140000.0         174999.5   \n",
      "7624            False          5.0   Marrakech  265000.0          22499.5   \n",
      "11748           False          5.0        Sale  650000.0         324999.5   \n",
      "13143           False          5.0  Casablanca  920000.0          97499.5   \n",
      "15084           False          5.0  Casablanca  123000.0         124999.5   \n",
      "\n",
      "       fiscal_horsepower_num  \n",
      "1375                     8.0  \n",
      "3937                     6.0  \n",
      "4014                     6.0  \n",
      "7624                     8.0  \n",
      "11748                    6.0  \n",
      "13143                    6.0  \n",
      "15084                    6.0  \n",
      "\n",
      "[7 rows x 31 columns]\n"
     ]
    }
   ],
   "source": [
    "manual_electric_cars = data_v1[(data_v1['fuel_type'] == 'Electrique') & (data_v1['transmission'] == 'Manuelle')]\n",
    "print(manual_electric_cars)"
   ]
  },
  {
   "cell_type": "code",
   "execution_count": null,
   "metadata": {
    "id": "QFTLbOQgwznS",
    "outputId": "58cc22f7-e8f7-47a8-fca3-b24092b1b2ac"
   },
   "outputs": [
    {
     "data": {
      "text/plain": [
       "21695"
      ]
     },
     "execution_count": 218,
     "metadata": {},
     "output_type": "execute_result"
    }
   ],
   "source": [
    "len(data_v1)"
   ]
  },
  {
   "cell_type": "code",
   "execution_count": null,
   "metadata": {
    "id": "BdvuUV7lwznS"
   },
   "outputs": [],
   "source": [
    "\n",
    "\n",
    "# Define the condition to identify the rows to drop\n",
    "condition_to_drop = (data_v1['fuel_type'] == 'Electrique') & (data_v1['transmission'] == 'Manuelle')\n",
    "\n",
    "# Drop the rows that satisfy the condition\n",
    "# The `.index` gets the row labels (indices) of the filtered DataFrame\n",
    "# The `drop()` method removes rows based on these indices\n",
    "# We reassign the result back to data_v1 to update the DataFrame\n",
    "data_v1 = data_v1.drop(data_v1[condition_to_drop].index)\n",
    "\n",
    "# You can verify that these rows are gone:\n",
    "# print(\"Checking if manual electric rows still exist:\")\n",
    "# print(data_v1[condition_to_drop])\n",
    "# print(\"\\nNew DataFrame shape (rows, columns):\")\n",
    "# print(data_v1.shape)"
   ]
  },
  {
   "cell_type": "code",
   "execution_count": null,
   "metadata": {
    "id": "j1rvXG4hwznS",
    "outputId": "6a979f81-2065-457d-dc88-79cd57bd8012"
   },
   "outputs": [
    {
     "data": {
      "text/plain": [
       "21688"
      ]
     },
     "execution_count": 225,
     "metadata": {},
     "output_type": "execute_result"
    }
   ],
   "source": [
    "len(data_v1)"
   ]
  },
  {
   "cell_type": "code",
   "execution_count": null,
   "metadata": {
    "id": "u7K4u_8zwznS",
    "outputId": "04843433-cdab-48cb-dc71-0428c9fe9610"
   },
   "outputs": [
    {
     "name": "stdout",
     "output_type": "stream",
     "text": [
      "Checking if manual electric rows still exist:\n",
      "Empty DataFrame\n",
      "Columns: [brand, year, transmission, fuel_type, kilometrage, model, origin, first_owner, fiscal_horsepower, condition, abs, airbags, electric_windows, remote_central_locking, parking_sensors, navigation_system/gps, rear_view_camera, speed_limiter, alloy_wheels, esp, air_conditioning, cd/mp3/bluetooth, leather_seats, on_board_computer, sunroof, cruise_control, door_number, city, price, kilometrage_num, fiscal_horsepower_num]\n",
      "Index: []\n",
      "\n",
      "[0 rows x 31 columns]\n",
      "\n",
      "New DataFrame shape (rows, columns):\n",
      "(21688, 31)\n"
     ]
    },
    {
     "name": "stderr",
     "output_type": "stream",
     "text": [
      "C:\\Users\\pc\\AppData\\Local\\Temp\\ipykernel_18904\\2746864891.py:2: UserWarning: Boolean Series key will be reindexed to match DataFrame index.\n",
      "  print(data_v1[condition_to_drop])\n"
     ]
    }
   ],
   "source": [
    "print(\"Checking if manual electric rows still exist:\")\n",
    "print(data_v1[condition_to_drop])\n",
    "print(\"\\nNew DataFrame shape (rows, columns):\")\n",
    "print(data_v1.shape)"
   ]
  },
  {
   "cell_type": "code",
   "execution_count": null,
   "metadata": {
    "id": "VGwFghXOwznT",
    "outputId": "8e24186b-d7ee-4d56-f03b-442ab588f1aa"
   },
   "outputs": [
    {
     "name": "stdout",
     "output_type": "stream",
     "text": [
      "Index(['brand', 'year', 'transmission', 'fuel_type', 'kilometrage', 'model',\n",
      "       'origin', 'first_owner', 'fiscal_horsepower', 'condition', 'abs',\n",
      "       'airbags', 'electric_windows', 'remote_central_locking',\n",
      "       'parking_sensors', 'navigation_system/gps', 'rear_view_camera',\n",
      "       'speed_limiter', 'alloy_wheels', 'esp', 'air_conditioning',\n",
      "       'cd/mp3/bluetooth', 'leather_seats', 'on_board_computer', 'sunroof',\n",
      "       'cruise_control', 'door_number', 'city', 'price', 'kilometrage_num',\n",
      "       'fiscal_horsepower_num'],\n",
      "      dtype='object')\n",
      "brand                      object\n",
      "year                        Int64\n",
      "transmission               object\n",
      "fuel_type                  object\n",
      "kilometrage                object\n",
      "model                      object\n",
      "origin                     object\n",
      "first_owner                object\n",
      "fiscal_horsepower          object\n",
      "condition                  object\n",
      "abs                          bool\n",
      "airbags                      bool\n",
      "electric_windows             bool\n",
      "remote_central_locking       bool\n",
      "parking_sensors              bool\n",
      "navigation_system/gps        bool\n",
      "rear_view_camera             bool\n",
      "speed_limiter                bool\n",
      "alloy_wheels                 bool\n",
      "esp                          bool\n",
      "air_conditioning             bool\n",
      "cd/mp3/bluetooth             bool\n",
      "leather_seats                bool\n",
      "on_board_computer            bool\n",
      "sunroof                      bool\n",
      "cruise_control               bool\n",
      "door_number               float64\n",
      "city                       object\n",
      "price                     float64\n",
      "kilometrage_num           float64\n",
      "fiscal_horsepower_num     float64\n",
      "dtype: object\n"
     ]
    }
   ],
   "source": [
    "print(data_v1.columns)\n",
    "print(data_v1.dtypes)"
   ]
  }
 ],
 "metadata": {
  "colab": {
   "provenance": []
  },
  "kernelspec": {
   "display_name": "Python 3 (ipykernel)",
   "language": "python",
   "name": "python3"
  },
  "language_info": {
   "codemirror_mode": {
    "name": "ipython",
    "version": 3
   },
   "file_extension": ".py",
   "mimetype": "text/x-python",
   "name": "python",
   "nbconvert_exporter": "python",
   "pygments_lexer": "ipython3",
   "version": "3.9.13"
  }
 },
 "nbformat": 4,
 "nbformat_minor": 1
}
